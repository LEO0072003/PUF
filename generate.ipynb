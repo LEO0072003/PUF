{
 "cells": [
  {
   "cell_type": "markdown",
   "id": "e50f8694",
   "metadata": {},
   "source": [
    "# Synthetic Data Generattion"
   ]
  },
  {
   "cell_type": "code",
   "execution_count": 4,
   "id": "e6be50e3",
   "metadata": {},
   "outputs": [],
   "source": [
    "import numpy as np\n",
    "import pandas as pd\n",
    "import matplotlib.pyplot as plt\n",
    "import seaborn as sns"
   ]
  },
  {
   "cell_type": "code",
   "execution_count": 6,
   "id": "e0989ca5",
   "metadata": {},
   "outputs": [],
   "source": [
    "\n",
    "def generate_puf_input(n):\n",
    "    weight_vect = np.random.normal(0,1,size=(1,n))\n",
    "\n",
    "    # Generate all binary numbers from 0 to 2^n - 1\n",
    "    binary_numbers = [format(i, f'0{n}b') for i in range(2**n)]\n",
    "\n",
    "    challenge_bit = []\n",
    "    for x in binary_numbers:\n",
    "        arr = []\n",
    "        for dig in x:\n",
    "            if dig == '0':\n",
    "                arr+= [1]\n",
    "            else:\n",
    "                arr+= [-1]\n",
    "        challenge_bit.append(arr)\n",
    "\n",
    "    phi = []\n",
    "    for challenge in challenge_bit:\n",
    "        arr = []\n",
    "        prev = None\n",
    "        for i in range(len(challenge)-1,-1,-1):\n",
    "            if i == len(challenge)-1:\n",
    "                dig = 1\n",
    "                prev = challenge[i]\n",
    "            else:\n",
    "                dig = challenge[i]*prev\n",
    "                prev = dig\n",
    "            arr = [dig]+arr\n",
    "\n",
    "        phi.append(np.array(arr))\n",
    "\n",
    "    ans = []\n",
    "    for p in phi:\n",
    "        pr = p.reshape(n,1)\n",
    "        temp = weight_vect@pr\n",
    "        ans.append(temp)\n",
    "\n",
    "    output = []\n",
    "    for x in ans:\n",
    "        if x<0:\n",
    "            output.append(1)\n",
    "        else:\n",
    "            output.append(0)\n",
    "\n",
    "    input = np.array([list(map(int ,x)) for x in binary_numbers])\n",
    "    output = np.array(output).reshape(2**n, 1)\n",
    "    np.savetxt(f\"data/phi_{n}.csv\", phi, delimiter=\",\", fmt='%d')\n",
    "    np.savetxt(f\"data/output_{n}.csv\", output, delimiter=\",\", fmt='%d')\n",
    "    np.savetxt(f\"data/input_{n}.csv\", challenge_bit, delimiter=\",\", fmt='%d')\n",
    "    return input, output\n",
    "\n",
    "\n",
    "for i in [8,16]:\n",
    "    generate_puf_input(i)\n",
    "\n"
   ]
  }
 ],
 "metadata": {
  "kernelspec": {
   "display_name": "env",
   "language": "python",
   "name": "python3"
  },
  "language_info": {
   "codemirror_mode": {
    "name": "ipython",
    "version": 3
   },
   "file_extension": ".py",
   "mimetype": "text/x-python",
   "name": "python",
   "nbconvert_exporter": "python",
   "pygments_lexer": "ipython3",
   "version": "3.10.17"
  }
 },
 "nbformat": 4,
 "nbformat_minor": 5
}
